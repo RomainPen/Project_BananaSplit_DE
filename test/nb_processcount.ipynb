{
 "cells": [
  {
   "cell_type": "code",
   "execution_count": null,
   "metadata": {},
   "outputs": [],
   "source": [
    "import psutil\n",
    "import multiprocessing\n"
   ]
  },
  {
   "cell_type": "code",
   "execution_count": 8,
   "metadata": {},
   "outputs": [],
   "source": [
    "def get_recommended_process_count():\n",
    "    \"\"\"Determine recommended number of concurrent processes based on system resources\"\"\"\n",
    "    cpu_count = multiprocessing.cpu_count()\n",
    "    print(cpu_count)\n",
    "    available_ram_gb = psutil.virtual_memory().available / (1024 * 1024 * 1024)\n",
    "    print(available_ram_gb)\n",
    "    \n",
    "    # Assuming each Chrome instance might use up to 0.9GB RAM\n",
    "    ram_based_limit = int(available_ram_gb / 1)  # Leave some RAM free\n",
    "    print(f\"ram_based_limit : {ram_based_limit}\")\n",
    "    cpu_based_limit = cpu_count - 1  # Leave one CPU core free\n",
    "    print(f\"cpu_based_limit : {cpu_based_limit}\")\n",
    "    \n",
    "    # Take the lower of the two limits\n",
    "    recommended = min(ram_based_limit, cpu_based_limit)\n",
    "    print(recommended)\n",
    "\n",
    "    # Cap at reasonable limits\n",
    "    return max(1, min(recommended, 6))  # Never recommend more than 6 processes"
   ]
  },
  {
   "cell_type": "code",
   "execution_count": 9,
   "metadata": {},
   "outputs": [
    {
     "name": "stdout",
     "output_type": "stream",
     "text": [
      "20\n",
      "6.991172790527344\n",
      "ram_based_limit : 6\n",
      "cpu_based_limit : 19\n",
      "6\n"
     ]
    },
    {
     "data": {
      "text/plain": [
       "6"
      ]
     },
     "execution_count": 9,
     "metadata": {},
     "output_type": "execute_result"
    }
   ],
   "source": [
    "get_recommended_process_count()"
   ]
  },
  {
   "cell_type": "code",
   "execution_count": 12,
   "metadata": {},
   "outputs": [],
   "source": [
    "def get_recommended_process_count():\n",
    "    \"\"\"Updated function based on measured Chrome memory usage\"\"\"\n",
    "    cpu_count = multiprocessing.cpu_count()\n",
    "    available_ram_gb = psutil.virtual_memory().available / (1024 * 1024 * 1024)\n",
    "    \n",
    "    # Each browser needs ~0.90 GB, use 1 GB to be safe\n",
    "    chrome_ram_usage = 1.0\n",
    "    \n",
    "    # Keep at least 4 GB free\n",
    "    usable_ram = available_ram_gb - 2\n",
    "    \n",
    "    ram_based_limit = int(usable_ram / chrome_ram_usage)\n",
    "    cpu_based_limit = cpu_count - 1\n",
    "    \n",
    "    recommended = min(ram_based_limit, cpu_based_limit)\n",
    "    return max(1, min(recommended, 4))  # Cap at 4 based on memory analysis"
   ]
  },
  {
   "cell_type": "code",
   "execution_count": 13,
   "metadata": {},
   "outputs": [
    {
     "data": {
      "text/plain": [
       "4"
      ]
     },
     "execution_count": 13,
     "metadata": {},
     "output_type": "execute_result"
    }
   ],
   "source": [
    "get_recommended_process_count()"
   ]
  },
  {
   "cell_type": "code",
   "execution_count": null,
   "metadata": {},
   "outputs": [],
   "source": []
  },
  {
   "cell_type": "code",
   "execution_count": 80,
   "metadata": {},
   "outputs": [],
   "source": [
    "import math"
   ]
  },
  {
   "cell_type": "code",
   "execution_count": 164,
   "metadata": {},
   "outputs": [],
   "source": [
    "year_range = [2012, 2021]\n",
    "max_batch = 4"
   ]
  },
  {
   "cell_type": "code",
   "execution_count": 165,
   "metadata": {},
   "outputs": [
    {
     "data": {
      "text/plain": [
       "[2012, 2013, 2014, 2015, 2016, 2017, 2018, 2019, 2020, 2021]"
      ]
     },
     "execution_count": 165,
     "metadata": {},
     "output_type": "execute_result"
    }
   ],
   "source": [
    "list_year = [ i for i in range(year_range[0], year_range[1]+1)]\n",
    "\n",
    "list_year"
   ]
  },
  {
   "cell_type": "code",
   "execution_count": 166,
   "metadata": {},
   "outputs": [
    {
     "data": {
      "text/plain": [
       "3"
      ]
     },
     "execution_count": 166,
     "metadata": {},
     "output_type": "execute_result"
    }
   ],
   "source": [
    "nb_year_in_batch = math.ceil(len(list_year)/max_batch)\n",
    "\n",
    "nb_year_in_batch"
   ]
  },
  {
   "cell_type": "code",
   "execution_count": 167,
   "metadata": {},
   "outputs": [],
   "source": [
    "def chunks_list_year(list_year, n):\n",
    "    \"\"\"Yield successive n-sized chunks from lst.\"\"\"\n",
    "    for i in range(0, len(list_year), n):\n",
    "        yield list_year[i:i + n]"
   ]
  },
  {
   "cell_type": "code",
   "execution_count": 168,
   "metadata": {},
   "outputs": [
    {
     "data": {
      "text/plain": [
       "[[2012, 2013, 2014], [2015, 2016, 2017], [2018, 2019, 2020], [2021]]"
      ]
     },
     "execution_count": 168,
     "metadata": {},
     "output_type": "execute_result"
    }
   ],
   "source": [
    "list_year_batch = [batch for batch in chunks_list_year(list_year, nb_year_in_batch)]\n",
    "list_year_batch"
   ]
  },
  {
   "cell_type": "code",
   "execution_count": null,
   "metadata": {},
   "outputs": [],
   "source": [
    "for batch in list_year_batch[max_batch+1:] :\n",
    "    "
   ]
  }
 ],
 "metadata": {
  "kernelspec": {
   "display_name": "BananaSplit_DE_env",
   "language": "python",
   "name": "python3"
  },
  "language_info": {
   "codemirror_mode": {
    "name": "ipython",
    "version": 3
   },
   "file_extension": ".py",
   "mimetype": "text/x-python",
   "name": "python",
   "nbconvert_exporter": "python",
   "pygments_lexer": "ipython3",
   "version": "3.12.4"
  }
 },
 "nbformat": 4,
 "nbformat_minor": 2
}
